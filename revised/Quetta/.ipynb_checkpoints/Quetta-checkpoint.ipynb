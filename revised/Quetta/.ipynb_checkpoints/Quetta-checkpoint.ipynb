{
 "cells": [
  {
   "cell_type": "markdown",
   "id": "53d985b9-60fe-4b13-a47e-5f37ccb6f6cb",
   "metadata": {},
   "source": [
    "# realtion between accidents and types\n"
   ]
  },
  {
   "cell_type": "code",
   "execution_count": 1,
   "id": "e82d3e75-58f2-4cca-8726-6bc32d722a9b",
   "metadata": {},
   "outputs": [],
   "source": [
    "import pandas as pd\n",
    "\n",
    "# Load the data\n",
    "file_path = 'Quetta.xlsx'\n",
    "sheet_name = 'accident types'\n",
    "df = pd.read_excel(file_path, sheet_name=sheet_name)\n"
   ]
  },
  {
   "cell_type": "code",
   "execution_count": 2,
   "id": "e1bdb308-429f-447d-a61c-bc3864da5e0a",
   "metadata": {},
   "outputs": [
    {
     "name": "stdout",
     "output_type": "stream",
     "text": [
      "                 Generalized Linear Model Regression Results                  \n",
      "==============================================================================\n",
      "Dep. Variable:        No of Accidents   No. Observations:                    6\n",
      "Model:                            GLM   Df Residuals:                        2\n",
      "Model Family:                 Poisson   Df Model:                            3\n",
      "Link Function:                    Log   Scale:                          1.0000\n",
      "Method:                          IRLS   Log-Likelihood:                -10.853\n",
      "Date:                Wed, 31 Jul 2024   Deviance:                      0.61883\n",
      "Time:                        17:05:06   Pearson chi2:                    0.615\n",
      "No. Iterations:                     4   Pseudo R-squ. (CS):             0.6003\n",
      "Covariance Type:            nonrobust                                         \n",
      "====================================================================================\n",
      "                       coef    std err          z      P>|z|      [0.025      0.975]\n",
      "------------------------------------------------------------------------------------\n",
      "const                0.8561      0.513      1.670      0.095      -0.148       1.861\n",
      "Derailments          0.1500      0.066      2.290      0.022       0.022       0.278\n",
      "Collisions           0.1632      0.273      0.597      0.550      -0.373       0.699\n",
      "Collisions at LC     0.1336      0.261      0.512      0.608      -0.377       0.644\n",
      "====================================================================================\n"
     ]
    }
   ],
   "source": [
    "import statsmodels.api as sm\n",
    "\n",
    "# Define the dependent and independent variables\n",
    "X = df[['Derailments', 'Collisions', 'Collisions at LC']]\n",
    "y = df['No of Accidents']\n",
    "\n",
    "# Add a constant to the model (intercept)\n",
    "X = sm.add_constant(X)\n",
    "\n",
    "# Fit the GLM model\n",
    "glm_poisson = sm.GLM(y, X, family=sm.families.Poisson()).fit()\n",
    "\n",
    "# Get the summary of the model\n",
    "summary = glm_poisson.summary()\n",
    "print(summary)\n"
   ]
  },
  {
   "cell_type": "markdown",
   "id": "205a4bc6-0b28-4293-a832-03547f9998b5",
   "metadata": {},
   "source": [
    "## interpretation\n",
    "\n",
    " railway accidents in the Quetta region\r\n",
    "\r\n",
    "Thus, we have used a model in the qualitative research method in which we have analyzed railway accidents of the Quetta region to determine the causes that lead to number of accidents. The model considered three main factors: there have been cases of derailments, collisions, and collisions at level crossings.\r\n",
    "\r\n",
    "Derailments\r\n",
    "\r\n",
    "When coming to the results, one can note that the cases of derailments affect the size of the number of accidents. Namely, each new type of derailment is associated with a roughly 15% increase in the number of accidents. From this one could infer that derailments are a significant cause of the occurrence of accidents in the city of Quetta because tackling this problem could lead to the minimization of overall accidents.\r\n",
    "\r\n",
    "Collisions\r\n",
    "\r\n",
    "Looking at the interaction with collisions, it is possible to note that the amount of collisions reveals a 16% raise for every additional collision. However, this effect is not significant in our setting meaning while collision does appear to influence a higher number of accident it is not a potent factor compared to derailment.\r\n",
    "\r\n",
    "Collisions at Level Crossings\r\n",
    "\r\n",
    "Level crossing accidents also record a surge in the number of accidents, whereby each collision is likely to cause a thirteen percent increase in accidents. However, similar to collisions, this factor is, therefore, not identified as having significant risk by significance analysis in this study, which implies that its impact is comparatively small than those of derailments.\r\n",
    "\r\n",
    "Model Fit\r\n",
    "\r\n",
    "The model fits slightly more than 60% of the variation in the numbers of accidents, which is a good fit. This implies that the factors that we captured (especially the derailments) are fairly valid in regards to the assessment of accident rate and possibly trends in the Quetta area.\r\n",
    "\r\n",
    "Summary\r\n",
    "\r\n",
    "Concisely, it could be estimated that the derailments are the most frequent type of the railway accidents in Quetta. However, collisions, level crossing accidents also contribute; but they appear not to be as compelling. It might be necessary to emphasize the efforts aimed at decreasing the number of derailments for increasing the railway safety in the area."
   ]
  },
  {
   "cell_type": "markdown",
   "id": "89a3f569-8f8d-4470-a143-ecada45c4f20",
   "metadata": {},
   "source": [
    "# Location"
   ]
  },
  {
   "cell_type": "code",
   "execution_count": 3,
   "id": "04165d94-162e-4d02-b5e0-378ff879d989",
   "metadata": {},
   "outputs": [
    {
     "name": "stdout",
     "output_type": "stream",
     "text": [
      "                 Generalized Linear Model Regression Results                  \n",
      "==============================================================================\n",
      "Dep. Variable:        No_of_Accidents   No. Observations:                    6\n",
      "Model:                            GLM   Df Residuals:                        3\n",
      "Model Family:                 Poisson   Df Model:                            2\n",
      "Link Function:                    Log   Scale:                          1.0000\n",
      "Method:                          IRLS   Log-Likelihood:                -10.654\n",
      "Date:                Wed, 31 Jul 2024   Deviance:                      0.22088\n",
      "Time:                        17:09:03   Pearson chi2:                    0.220\n",
      "No. Iterations:                     4   Pseudo R-squ. (CS):             0.6259\n",
      "Covariance Type:            nonrobust                                         \n",
      "===============================================================================================\n",
      "                                  coef    std err          z      P>|z|      [0.025      0.975]\n",
      "-----------------------------------------------------------------------------------------------\n",
      "Intercept                       0.6866      0.859      0.799      0.424      -0.998       2.371\n",
      "Accidents_at_Track              0.1672      0.095      1.758      0.079      -0.019       0.354\n",
      "Accidents_in_Station_Limits     0.1923      0.561      0.343      0.732      -0.907       1.292\n",
      "===============================================================================================\n"
     ]
    }
   ],
   "source": [
    "import pandas as pd\n",
    "import statsmodels.api as sm\n",
    "from statsmodels.formula.api import glm\n",
    "\n",
    "# Load the data\n",
    "file_path = 'Quetta.xlsx'\n",
    "sheet_name = 'Location of Accidents'\n",
    "df = pd.read_excel(file_path, sheet_name=sheet_name)\n",
    "\n",
    "# Replace spaces in column names with underscores\n",
    "df.columns = df.columns.str.replace(' ', '_')\n",
    "\n",
    "\n",
    "# Fit the GLM excluding the 'Year' variable\n",
    "model = glm('No_of_Accidents ~ Accidents_at_Track + Accidents_in_Station_Limits',\n",
    "            data=df,\n",
    "            family=sm.families.Poisson()).fit()\n",
    "\n",
    "# Print the summary of the model\n",
    "print(model.summary())"
   ]
  },
  {
   "cell_type": "markdown",
   "id": "bd18a852-ed08-4724-b672-110e8d3efe37",
   "metadata": {},
   "source": [
    "## interpretation \n",
    "\n",
    "Railway Fall Analysis of the Quetta Province\r\n",
    "\r\n",
    "In examining factors related to the number of railway accidents in Quetta, our GLM model included two key variables: accidents at track locations and, the other is accidents within station limits.\r\n",
    "\r\n",
    "Accidents at Track Locations\r\n",
    "\r\n",
    "The findings show that an approximate increase in the total number of accidents by about 17% is evidenced by every other accident at track locations. Unfortunately, this effect is not even close to being statistically different form zero as its p-value equals 0. 079, meaning while the relation exists it is not strong enough for the statistical testing of our data at this point. However, what deserves attention is the fact that accidents at track locations might be a significant source of impacts affecting the number of general accidents.\r\n",
    "\r\n",
    "Accidents in Station Limits\r\n",
    "\r\n",
    "For accidents that happen within the station limits, the outcome of the model exhibits an estimated increase of about 19% in the total number of accidents. However, this variable is not significant (p-value = 0. 732), therefore, it can not be considered as proving strong relationship between variable with the number of accidents as depicted in the analysis. This implies that the kind of accidents that occur within station limits might not necessarily have a great influence on the total numeracy of the accidents than any other factors.\r\n",
    "\r\n",
    "Model Fit\r\n",
    "\r\n",
    "The model explains roughly 62 percent of the variation of the Kenyan economy. Namely, coefficients of determination amounted to 6% of the variation in the number of accidents, which attests to a high reliability of the model. This indicates that the factors incorporated in the model, that is, accidents at track locations and within station limits, give a satisfactory account about the variations in accidental frequencies in the Quarter of Quetta.\r\n",
    "\r\n",
    "Summary\r\n",
    "\r\n",
    "To sum up, reviewing the number of accidents at track locations to conclude that a relationship between these locations and a larger number of accidents could be attributed indicates a lack of clear verification. From this model, it can be seen that accidents that occur within a station’s limits do not seem to have a direct relation to increasing the total number of accidents. Thus, increasing the safety measures at the places of track might be informative while looking to decrease accident frequencies in Quetta.\r\n"
   ]
  },
  {
   "cell_type": "code",
   "execution_count": null,
   "id": "82788592-9c12-42ca-85d1-b2e753b28805",
   "metadata": {},
   "outputs": [],
   "source": []
  }
 ],
 "metadata": {
  "kernelspec": {
   "display_name": "datascience",
   "language": "python",
   "name": "datascience"
  },
  "language_info": {
   "codemirror_mode": {
    "name": "ipython",
    "version": 3
   },
   "file_extension": ".py",
   "mimetype": "text/x-python",
   "name": "python",
   "nbconvert_exporter": "python",
   "pygments_lexer": "ipython3",
   "version": "3.10.9"
  }
 },
 "nbformat": 4,
 "nbformat_minor": 5
}
